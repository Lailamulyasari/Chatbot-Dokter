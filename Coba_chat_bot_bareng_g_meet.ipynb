{
  "nbformat": 4,
  "nbformat_minor": 0,
  "metadata": {
    "colab": {
      "name": "Coba chat bot bareng g meet.ipynb",
      "private_outputs": true,
      "provenance": [],
      "include_colab_link": true
    },
    "kernelspec": {
      "name": "python3",
      "display_name": "Python 3"
    },
    "language_info": {
      "name": "python"
    }
  },
  "cells": [
    {
      "cell_type": "markdown",
      "metadata": {
        "id": "view-in-github",
        "colab_type": "text"
      },
      "source": [
        "<a href=\"https://colab.research.google.com/github/Lailamulyasari/Chatbot-Dokter/blob/main/Coba_chat_bot_bareng_g_meet.ipynb\" target=\"_parent\"><img src=\"https://colab.research.google.com/assets/colab-badge.svg\" alt=\"Open In Colab\"/></a>"
      ]
    },
    {
      "cell_type": "code",
      "metadata": {
        "id": "KgoF1GXwMCG6"
      },
      "source": [
        "import numpy as np\n",
        "import nltk \n",
        "import random\n",
        "import string"
      ],
      "execution_count": null,
      "outputs": []
    },
    {
      "cell_type": "markdown",
      "metadata": {
        "id": "s0p1SEduN-xH"
      },
      "source": [
        "# Bagian Baru"
      ]
    },
    {
      "cell_type": "markdown",
      "metadata": {
        "id": "o9ppVOUqN_vP"
      },
      "source": [
        "# Bagian Baru"
      ]
    },
    {
      "cell_type": "code",
      "metadata": {
        "id": "k7cos1O8McNw"
      },
      "source": [
        "f= open('Dataset.xlsx','r', errors='ignore')\n",
        "raw_doc=f.read()\n",
        "raw_doc=raw_doc.lower()\n",
        "nltk.download('wordnet')\n",
        "nltk.download('punkt')\n",
        "sent_tokens = nltk.sent_tokenize(raw_doc)\n",
        "word_tokens = nltk.sent_tokenize(raw_doc)"
      ],
      "execution_count": null,
      "outputs": []
    },
    {
      "cell_type": "code",
      "metadata": {
        "id": "knPEdg1bQmsH"
      },
      "source": [
        "sent_tokens[:2]"
      ],
      "execution_count": null,
      "outputs": []
    },
    {
      "cell_type": "code",
      "metadata": {
        "id": "z6TQnblnQrzK"
      },
      "source": [
        "word_tokens[:2]"
      ],
      "execution_count": null,
      "outputs": []
    },
    {
      "cell_type": "markdown",
      "metadata": {
        "id": "uWj_fyxwRqeH"
      },
      "source": [
        "#chat bot nya bebas\n",
        "Boleh kaya coach\n",
        "atau opsi lain."
      ]
    },
    {
      "cell_type": "code",
      "metadata": {
        "id": "0pON4ci1TAw-"
      },
      "source": [
        "#ngilangin tanda baca dan spasi\n",
        "#import re\n",
        "#text clean re\n",
        "#ketik code"
      ],
      "execution_count": null,
      "outputs": []
    },
    {
      "cell_type": "code",
      "metadata": {
        "id": "NvzRlrnEWH-Z"
      },
      "source": [
        "def greeting_response(text):\n",
        "    text = text.lower()\n",
        "    \n",
        "    #Bots greeting respone\n",
        "    bot_greetings = ['halo terimakasih sudah menghubungi klinik kami, ada yg bisa kami bantu?']\n",
        "    \n",
        "    #Users greeting\n",
        "    user_greetings = ['Halo dok, mau konsultasi tentang kulit berjerawat']\n",
        "    \n",
        "    for word in text.split():\n",
        "        if word in user_greetings:\n",
        "            return random.choice(bot_greetings)\n",
        "        \n",
        "    #Random response to greeting\n",
        "    def gratitude_response(text):\n",
        "        text=text.lower()"
      ],
      "execution_count": null,
      "outputs": []
    },
    {
      "cell_type": "code",
      "metadata": {
        "id": "bZNPTAMhUOy4"
      },
      "source": [
        "def greeting_response(text):\n",
        "    text = text.lower()\n",
        "    \n",
        "    #Bots greeting respone\n",
        "    bot_greetings = ['halo','hai','yuhuu','*eyebrows up*']\n",
        "    \n",
        "    #Users greeting\n",
        "    user_greetings = ['Haloo','Eh iyaa Haii','Hai','greetings','wassup']\n",
        "    \n",
        "    for word in text.split():\n",
        "        if word in user_greetings:\n",
        "            return random.choice(bot_greetings)\n",
        "        \n",
        "    #Random response to greeting\n",
        "    def gratitude_response(text):\n",
        "        text=text.lower()"
      ],
      "execution_count": null,
      "outputs": []
    },
    {
      "cell_type": "code",
      "metadata": {
        "id": "lOJOtBgzWByk"
      },
      "source": [
        "def index_sort(list_var):\n",
        "    length = len(list_var)\n",
        "    list_index = list(range(0, length))\n",
        "    \n",
        "    x = list_var        \n",
        "    for i in range(length):\n",
        "        for j in range(length):\n",
        "            if x[list_index[i]] > x[list_index[j]]:\n",
        "                #swap\n",
        "                temp = list_index[i]\n",
        "                list_index[i] = list_index[j]\n",
        "                list_index[j] = temp\n",
        "                \n",
        "    return list_index"
      ],
      "execution_count": null,
      "outputs": []
    },
    {
      "cell_type": "code",
      "metadata": {
        "id": "wjl74pdbVZ1Y"
      },
      "source": [
        "def bot_response(user_input):\n",
        "    user_input=user_input.lower()\n",
        "    sentence_list.append(user_input)\n",
        "    bot_response= ''\n",
        "    cm=CountVectorizer().fit_transform(sentence_list)\n",
        "    similarity_scores=cosine_similarity(cm[-1],cm)\n",
        "    similarity_scores_list=similarity_scores.flatten()\n",
        "    index=index_sort(similarity_scores_list)\n",
        "    index=index[1:]\n",
        "    response_flag=0\n",
        "    \n",
        "    j=0\n",
        "    for i in range(len(index)):\n",
        "        if similarity_scores_list[index[i]]>0.0:\n",
        "            bot_response=bot_response+' '+sentence_list[index[i]]\n",
        "            response_flag=1\n",
        "            j=j+1\n",
        "        if j>2:\n",
        "            break\n",
        "\n",
        "        if response_flag==0:\n",
        "            bot_response=bot_response+\" \"+\"I apologize, I dont understand\"\n",
        "\n",
        "        sentence_list.remove(user_input) \n",
        "\n",
        "        return bot_response"
      ],
      "execution_count": null,
      "outputs": []
    },
    {
      "cell_type": "code",
      "metadata": {
        "id": "3gRabqfjULgK"
      },
      "source": [
        "print(\"Doc Bot: Apa saja yang ingin ada tanyakan tentang kulit berjerawat\")\n",
        "\n",
        "exit_list=['exit','bye','keluar','quit', 'sampai jumpa','terimakasih']\n",
        "\n",
        "while(True):\n",
        "    user_input=input()\n",
        "    if user_input.lower() in exit_list:\n",
        "        print('Doc Bot: Bye Bye Sampai jumpa lagi')\n",
        "        break\n",
        "    else:\n",
        "        if greeting_response(user_input)!= None:\n",
        "            print('Doc Bot: '+ greeting_response(user_input))\n",
        "        else:\n",
        "            print('Doc Bot: '+ bot_response(user_input))"
      ],
      "execution_count": null,
      "outputs": []
    },
    {
      "cell_type": "code",
      "metadata": {
        "id": "CXYsrxPATynR"
      },
      "source": [
        ""
      ],
      "execution_count": null,
      "outputs": []
    },
    {
      "cell_type": "code",
      "metadata": {
        "id": "VNUJQQtfTyqv"
      },
      "source": [
        "print(\"Doc Bot: Apa saja yang kamu ingin tahu dari kulit berjerawat\")\n",
        "\n",
        "exit_list=['exit','bye','keluar','quit', 'sampai jumpa','terimakasih']\n",
        "\n",
        "while(True):\n",
        "    user_input=input()\n",
        "    if user_input.lower() in exit_list:\n",
        "        print('Doc Bot: Bye Bye Sampai jumpa lagi')\n",
        "        break\n",
        "    else:\n",
        "        if greeting_response(user_input)!= None:\n",
        "            print('Doc Bot: '+ greeting_response(user_input))\n",
        "        else:\n",
        "            print('Doc Bot: '+ bot_response(user_input))"
      ],
      "execution_count": null,
      "outputs": []
    }
  ]
}